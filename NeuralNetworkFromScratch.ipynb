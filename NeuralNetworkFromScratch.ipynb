{
  "nbformat": 4,
  "nbformat_minor": 0,
  "metadata": {
    "colab": {
      "provenance": []
    },
    "kernelspec": {
      "name": "python3",
      "display_name": "Python 3"
    },
    "language_info": {
      "name": "python"
    }
  },
  "cells": [
    {
      "cell_type": "markdown",
      "source": [
        "#**Practice Lab Neural Network 1**\n",
        "### **Name:** Shivshankar Ghyar\n",
        "### **Problem stmt:** The task is to develop a neural network that classifies images of handwritten digits (from the MNIST dataset) into their respective categories (0-9). The dataset consists of 28x28 grayscale images, and each image is accompanied by its corresponding label."
      ],
      "metadata": {
        "id": "fMYoSGZ1Xs8Y"
      }
    },
    {
      "cell_type": "markdown",
      "source": [
        "### Data Preparation:\n",
        "\n",
        "The dataset is loaded from mnist_train.csv.\n",
        "\n",
        "After shuffling, the first 1000 samples are used as the development set, and the rest for training.\n",
        "\n",
        "Features (X_train, X_dev) are normalized for better convergence."
      ],
      "metadata": {
        "id": "m8gL7gpplUA4"
      }
    },
    {
      "cell_type": "code",
      "execution_count": 1,
      "metadata": {
        "id": "fehZWvEFdSqx"
      },
      "outputs": [],
      "source": [
        "import numpy as np\n",
        "import pandas as pd\n",
        "from matplotlib import pyplot as plt\n",
        "\n",
        "data = pd.read_csv('/content/drive/MyDrive/Colab Notebooks/DeepLearning/mnist_train.csv')"
      ]
    },
    {
      "cell_type": "code",
      "source": [
        "print(\"Actual Dataset :\\n\",data)\n",
        "data = np.array(data)\n",
        "m, n = data.shape\n",
        "print(\"Shape of Dataset:\",m,\" \",n)\n",
        "np.random.shuffle(data) # shuffle before splitting into dev and training sets\n"
      ],
      "metadata": {
        "colab": {
          "base_uri": "https://localhost:8080/"
        },
        "id": "NHwmwi-wBoSm",
        "outputId": "d0effab2-8d70-461d-fbb3-f0827def0ad8"
      },
      "execution_count": 8,
      "outputs": [
        {
          "output_type": "stream",
          "name": "stdout",
          "text": [
            "Actual Dataset :\n",
            " [[1 0 0 ... 0 0 0]\n",
            " [6 0 0 ... 0 0 0]\n",
            " [3 0 0 ... 0 0 0]\n",
            " ...\n",
            " [1 0 0 ... 0 0 0]\n",
            " [2 0 0 ... 0 0 0]\n",
            " [4 0 0 ... 0 0 0]]\n",
            "Shape of Dataset: 60000   785\n"
          ]
        }
      ]
    },
    {
      "cell_type": "code",
      "source": [
        "data_dev = data[0:1000].T\n",
        "Y_dev = data_dev[0]\n",
        "X_dev = data_dev[1:n]\n",
        "X_dev = X_dev / 255.\n",
        "\n",
        "data_train = data[1000:m].T\n",
        "Y_train = data_train[0]\n",
        "X_train = data_train[1:n]\n",
        "X_train = X_train / 255.\n",
        "_,m_train = X_train.shape"
      ],
      "metadata": {
        "id": "9Oz_UFxjB1u2"
      },
      "execution_count": 9,
      "outputs": []
    },
    {
      "cell_type": "code",
      "source": [
        "print(\"Y_train: \\n\",Y_train)\n",
        "Y_train.shape\n"
      ],
      "metadata": {
        "colab": {
          "base_uri": "https://localhost:8080/"
        },
        "id": "IUFxf9GzEFeu",
        "outputId": "1eab5da6-3ad6-4444-a587-ae3c951b59cf"
      },
      "execution_count": 10,
      "outputs": [
        {
          "output_type": "stream",
          "name": "stdout",
          "text": [
            "Y_train: \n",
            " [9 0 8 ... 6 0 1]\n"
          ]
        },
        {
          "output_type": "execute_result",
          "data": {
            "text/plain": [
              "(59000,)"
            ]
          },
          "metadata": {},
          "execution_count": 10
        }
      ]
    },
    {
      "cell_type": "markdown",
      "source": [
        "### Network Initialization:\n",
        "\n",
        "Weights (W1, W2) and biases (b1, b2) are initialized with random values.\n",
        "python\n",
        "Copy\n",
        "Edit\n"
      ],
      "metadata": {
        "id": "LkT1na2_lhF0"
      }
    },
    {
      "cell_type": "code",
      "source": [
        "def init_params():\n",
        "    W1 = np.random.rand(10, 784) - 0.5\n",
        "    b1 = np.random.rand(10, 1) - 0.5\n",
        "    W2 = np.random.rand(10, 10) - 0.5\n",
        "    b2 = np.random.rand(10, 1) - 0.5\n",
        "    return W1, b1, W2, b2"
      ],
      "metadata": {
        "id": "idmZq0hMllQX"
      },
      "execution_count": null,
      "outputs": []
    },
    {
      "cell_type": "code",
      "source": [
        "def ReLU(Z):\n",
        "    return np.maximum(Z, 0)\n",
        "\n",
        "def softmax(Z):\n",
        "    A = np.exp(Z) / sum(np.exp(Z))\n",
        "    return A\n",
        "\n",
        "\n",
        "def ReLU_deriv(Z):\n",
        "    return Z > 0\n",
        "\n",
        "def one_hot(Y):\n",
        "    one_hot_Y = np.zeros((Y.size, Y.max() + 1))\n",
        "    one_hot_Y[np.arange(Y.size), Y] = 1\n",
        "    one_hot_Y = one_hot_Y.T\n",
        "    return one_hot_Y\n"
      ],
      "metadata": {
        "id": "0wje34oqEXdQ"
      },
      "execution_count": 11,
      "outputs": []
    },
    {
      "cell_type": "markdown",
      "source": [
        "### Forward Propagation:\n",
        "\n",
        "Input passes through the hidden layer using the ReLU activation function.\n",
        "The output layer uses softmax for probabilities."
      ],
      "metadata": {
        "id": "tuaQn9hWltYL"
      }
    },
    {
      "cell_type": "code",
      "source": [
        "def forward_prop(W1, b1, W2, b2, X):\n",
        "    Z1 = W1.dot(X) + b1\n",
        "    A1 = ReLU(Z1)\n",
        "    Z2 = W2.dot(A1) + b2\n",
        "    A2 = softmax(Z2)\n",
        "    return Z1, A1, Z2, A2"
      ],
      "metadata": {
        "id": "eTnHLAbclqo3"
      },
      "execution_count": null,
      "outputs": []
    },
    {
      "cell_type": "markdown",
      "source": [
        "### Backward Propagation:\n",
        "\n",
        "Calculates the gradients of weights and biases with respect to the loss function.\n",
        "\n",
        "Uses the chain rule of differentiation."
      ],
      "metadata": {
        "id": "A3mZYPWtl9C3"
      }
    },
    {
      "cell_type": "code",
      "source": [
        "def backward_prop(Z1, A1, Z2, A2, W1, W2, X, Y):\n",
        "    one_hot_Y = one_hot(Y)\n",
        "    dZ2 = A2 - one_hot_Y\n",
        "    dW2 = 1 / m * dZ2.dot(A1.T)\n",
        "    db2 = 1 / m * np.sum(dZ2)\n",
        "    dZ1 = W2.T.dot(dZ2) * ReLU_deriv(Z1)\n",
        "    dW1 = 1 / m * dZ1.dot(X.T)\n",
        "    db1 = 1 / m * np.sum(dZ1)\n",
        "    return dW1, db1, dW2, db2"
      ],
      "metadata": {
        "id": "l7Nk1egcmFJF"
      },
      "execution_count": null,
      "outputs": []
    },
    {
      "cell_type": "markdown",
      "source": [
        "### Parameter Updates:\n",
        "\n",
        "Gradients are used to adjust weights and biases."
      ],
      "metadata": {
        "id": "0j3IXHMdmMHy"
      }
    },
    {
      "cell_type": "code",
      "source": [
        "def update_params(W1, b1, W2, b2, dW1, db1, dW2, db2, alpha):\n",
        "    W1 = W1 - alpha * dW1\n",
        "    b1 = b1 - alpha * db1\n",
        "    W2 = W2 - alpha * dW2\n",
        "    b2 = b2 - alpha * db2\n",
        "    return W1, b1, W2, b2"
      ],
      "metadata": {
        "id": "F2gVGikqmOGe"
      },
      "execution_count": null,
      "outputs": []
    },
    {
      "cell_type": "markdown",
      "source": [
        "### Training:\n",
        "\n",
        "The model trains for 500 iterations, printing accuracy every 10 iterations.\n"
      ],
      "metadata": {
        "id": "Yar6CYhXmbRj"
      }
    },
    {
      "cell_type": "code",
      "source": [
        "def get_predictions(A2):\n",
        "    return np.argmax(A2, 0)\n",
        "\n",
        "def get_accuracy(predictions, Y):\n",
        "    print(predictions, Y)\n",
        "    return np.sum(predictions == Y) / Y.size\n",
        "\n",
        "def gradient_descent(X, Y, alpha, iterations):\n",
        "    W1, b1, W2, b2 = init_params()\n",
        "    for i in range(iterations):\n",
        "        Z1, A1, Z2, A2 = forward_prop(W1, b1, W2, b2, X)\n",
        "        dW1, db1, dW2, db2 = backward_prop(Z1, A1, Z2, A2, W1, W2, X, Y)\n",
        "        W1, b1, W2, b2 = update_params(W1, b1, W2, b2, dW1, db1, dW2, db2, alpha)\n",
        "        if i % 10 == 0:\n",
        "            print(\"Iteration: \", i)\n",
        "            predictions = get_predictions(A2)\n",
        "            print(get_accuracy(predictions, Y))\n",
        "    return W1, b1, W2, b2\n"
      ],
      "metadata": {
        "id": "C5Wg7moOEyXa"
      },
      "execution_count": 12,
      "outputs": []
    },
    {
      "cell_type": "code",
      "source": [
        "W1, b1, W2, b2 = gradient_descent(X_train, Y_train, 0.10, 500)"
      ],
      "metadata": {
        "colab": {
          "base_uri": "https://localhost:8080/"
        },
        "id": "bSgo2mjLE4UC",
        "outputId": "b2154e54-7360-45b4-cae9-7bf0fe03dacc"
      },
      "execution_count": 13,
      "outputs": [
        {
          "output_type": "stream",
          "name": "stdout",
          "text": [
            "Iteration:  0\n",
            "[8 7 4 ... 4 8 7] [9 0 8 ... 6 0 1]\n",
            "0.16747457627118645\n",
            "Iteration:  10\n",
            "[8 0 5 ... 6 8 1] [9 0 8 ... 6 0 1]\n",
            "0.23911864406779662\n",
            "Iteration:  20\n",
            "[8 0 5 ... 6 0 1] [9 0 8 ... 6 0 1]\n",
            "0.3223050847457627\n",
            "Iteration:  30\n",
            "[8 0 4 ... 6 0 1] [9 0 8 ... 6 0 1]\n",
            "0.38666101694915256\n",
            "Iteration:  40\n",
            "[4 0 4 ... 6 0 1] [9 0 8 ... 6 0 1]\n",
            "0.446\n",
            "Iteration:  50\n",
            "[4 0 4 ... 6 0 1] [9 0 8 ... 6 0 1]\n",
            "0.49789830508474575\n",
            "Iteration:  60\n",
            "[4 0 4 ... 6 0 1] [9 0 8 ... 6 0 1]\n",
            "0.5437966101694915\n",
            "Iteration:  70\n",
            "[4 0 4 ... 6 0 1] [9 0 8 ... 6 0 1]\n",
            "0.5823389830508474\n",
            "Iteration:  80\n",
            "[4 0 4 ... 6 0 1] [9 0 8 ... 6 0 1]\n",
            "0.6131525423728813\n",
            "Iteration:  90\n",
            "[4 0 4 ... 6 0 1] [9 0 8 ... 6 0 1]\n",
            "0.6398813559322034\n",
            "Iteration:  100\n",
            "[4 0 8 ... 6 0 1] [9 0 8 ... 6 0 1]\n",
            "0.6621016949152543\n",
            "Iteration:  110\n",
            "[4 0 8 ... 6 0 1] [9 0 8 ... 6 0 1]\n",
            "0.6818305084745763\n",
            "Iteration:  120\n",
            "[4 0 8 ... 6 0 1] [9 0 8 ... 6 0 1]\n",
            "0.6984745762711865\n",
            "Iteration:  130\n",
            "[4 0 8 ... 6 0 1] [9 0 8 ... 6 0 1]\n",
            "0.712271186440678\n",
            "Iteration:  140\n",
            "[4 0 8 ... 6 0 1] [9 0 8 ... 6 0 1]\n",
            "0.7237457627118644\n",
            "Iteration:  150\n",
            "[4 0 8 ... 6 0 1] [9 0 8 ... 6 0 1]\n",
            "0.7334745762711864\n",
            "Iteration:  160\n",
            "[4 0 8 ... 6 0 1] [9 0 8 ... 6 0 1]\n",
            "0.7431694915254238\n",
            "Iteration:  170\n",
            "[9 0 8 ... 6 0 1] [9 0 8 ... 6 0 1]\n",
            "0.7522033898305085\n",
            "Iteration:  180\n",
            "[9 0 8 ... 6 0 1] [9 0 8 ... 6 0 1]\n",
            "0.7601864406779661\n",
            "Iteration:  190\n",
            "[9 0 8 ... 6 0 1] [9 0 8 ... 6 0 1]\n",
            "0.7672711864406779\n",
            "Iteration:  200\n",
            "[9 0 8 ... 6 0 1] [9 0 8 ... 6 0 1]\n",
            "0.7741016949152543\n",
            "Iteration:  210\n",
            "[9 0 8 ... 6 0 1] [9 0 8 ... 6 0 1]\n",
            "0.7796779661016949\n",
            "Iteration:  220\n",
            "[9 0 8 ... 6 0 1] [9 0 8 ... 6 0 1]\n",
            "0.7847627118644068\n",
            "Iteration:  230\n",
            "[9 0 8 ... 6 0 1] [9 0 8 ... 6 0 1]\n",
            "0.7897966101694915\n",
            "Iteration:  240\n",
            "[9 0 8 ... 6 0 1] [9 0 8 ... 6 0 1]\n",
            "0.7950677966101695\n",
            "Iteration:  250\n",
            "[9 0 8 ... 6 0 1] [9 0 8 ... 6 0 1]\n",
            "0.7993050847457627\n",
            "Iteration:  260\n",
            "[9 0 8 ... 6 0 1] [9 0 8 ... 6 0 1]\n",
            "0.8029661016949152\n",
            "Iteration:  270\n",
            "[9 0 8 ... 6 0 1] [9 0 8 ... 6 0 1]\n",
            "0.8071694915254237\n",
            "Iteration:  280\n",
            "[9 0 8 ... 6 0 1] [9 0 8 ... 6 0 1]\n",
            "0.8105593220338984\n",
            "Iteration:  290\n",
            "[9 0 8 ... 6 0 1] [9 0 8 ... 6 0 1]\n",
            "0.8143050847457627\n",
            "Iteration:  300\n",
            "[9 0 8 ... 6 0 1] [9 0 8 ... 6 0 1]\n",
            "0.8173559322033899\n",
            "Iteration:  310\n",
            "[9 0 8 ... 6 0 1] [9 0 8 ... 6 0 1]\n",
            "0.8200508474576271\n",
            "Iteration:  320\n",
            "[9 0 8 ... 6 0 1] [9 0 8 ... 6 0 1]\n",
            "0.8234406779661017\n",
            "Iteration:  330\n",
            "[9 0 8 ... 6 0 1] [9 0 8 ... 6 0 1]\n",
            "0.8257966101694916\n",
            "Iteration:  340\n",
            "[9 0 8 ... 6 0 1] [9 0 8 ... 6 0 1]\n",
            "0.8280169491525424\n",
            "Iteration:  350\n",
            "[9 0 8 ... 6 0 1] [9 0 8 ... 6 0 1]\n",
            "0.8299661016949152\n",
            "Iteration:  360\n",
            "[9 0 8 ... 6 0 1] [9 0 8 ... 6 0 1]\n",
            "0.832271186440678\n",
            "Iteration:  370\n",
            "[9 0 8 ... 6 0 1] [9 0 8 ... 6 0 1]\n",
            "0.8343050847457627\n",
            "Iteration:  380\n",
            "[9 0 8 ... 6 0 1] [9 0 8 ... 6 0 1]\n",
            "0.8363220338983051\n",
            "Iteration:  390\n",
            "[9 0 8 ... 6 0 1] [9 0 8 ... 6 0 1]\n",
            "0.8382033898305085\n",
            "Iteration:  400\n",
            "[9 0 8 ... 6 0 1] [9 0 8 ... 6 0 1]\n",
            "0.8400338983050848\n",
            "Iteration:  410\n",
            "[9 0 8 ... 6 0 1] [9 0 8 ... 6 0 1]\n",
            "0.8418813559322034\n",
            "Iteration:  420\n",
            "[9 0 8 ... 6 0 1] [9 0 8 ... 6 0 1]\n",
            "0.8433898305084746\n",
            "Iteration:  430\n",
            "[9 0 8 ... 6 0 1] [9 0 8 ... 6 0 1]\n",
            "0.8452033898305085\n",
            "Iteration:  440\n",
            "[9 0 8 ... 6 0 1] [9 0 8 ... 6 0 1]\n",
            "0.8466271186440678\n",
            "Iteration:  450\n",
            "[9 0 8 ... 6 0 1] [9 0 8 ... 6 0 1]\n",
            "0.8479152542372881\n",
            "Iteration:  460\n",
            "[9 0 8 ... 6 0 1] [9 0 8 ... 6 0 1]\n",
            "0.8489661016949153\n",
            "Iteration:  470\n",
            "[9 0 8 ... 6 0 1] [9 0 8 ... 6 0 1]\n",
            "0.8503220338983051\n",
            "Iteration:  480\n",
            "[9 0 8 ... 6 0 1] [9 0 8 ... 6 0 1]\n",
            "0.8513559322033898\n",
            "Iteration:  490\n",
            "[9 0 8 ... 6 0 1] [9 0 8 ... 6 0 1]\n",
            "0.8522203389830508\n"
          ]
        }
      ]
    },
    {
      "cell_type": "code",
      "source": [
        "def make_predictions(X, W1, b1, W2, b2):\n",
        "    _, _, _, A2 = forward_prop(W1, b1, W2, b2, X)\n",
        "    predictions = get_predictions(A2)\n",
        "    return predictions\n",
        "\n",
        "def test_prediction(index, W1, b1, W2, b2):\n",
        "    current_image = X_train[:, index, None]\n",
        "    prediction = make_predictions(X_train[:, index, None], W1, b1, W2, b2)\n",
        "    label = Y_train[index]\n",
        "    print(\"Prediction: \", prediction)\n",
        "    print(\"Label: \", label)\n",
        "\n",
        "    current_image = current_image.reshape((28, 28)) * 255\n",
        "    plt.gray()\n",
        "    plt.imshow(current_image, interpolation='nearest')\n",
        "    plt.show()\n"
      ],
      "metadata": {
        "id": "TUtGtYLpE6_i"
      },
      "execution_count": 14,
      "outputs": []
    },
    {
      "cell_type": "code",
      "source": [
        "test_prediction(0, W1, b1, W2, b2)\n",
        "test_prediction(1, W1, b1, W2, b2)"
      ],
      "metadata": {
        "colab": {
          "base_uri": "https://localhost:8080/",
          "height": 916
        },
        "id": "VE6JYRyDFnWJ",
        "outputId": "137f9e1e-55e5-42ef-a879-662eb9cfb9d6"
      },
      "execution_count": 15,
      "outputs": [
        {
          "output_type": "stream",
          "name": "stdout",
          "text": [
            "Prediction:  [9]\n",
            "Label:  9\n"
          ]
        },
        {
          "output_type": "display_data",
          "data": {
            "text/plain": [
              "<Figure size 640x480 with 1 Axes>"
            ],
            "image/png": "[encoded data removed]"
          },
          "metadata": {}
        },
        {
          "output_type": "stream",
          "name": "stdout",
          "text": [
            "Prediction:  [0]\n",
            "Label:  0\n"
          ]
        },
        {
          "output_type": "display_data",
          "data": {
            "text/plain": [
              "<Figure size 640x480 with 1 Axes>"
            ],
            "image/png": "[encoded data removed]"
          },
          "metadata": {}
        }
      ]
    },
    {
      "cell_type": "code",
      "source": [
        "dev_predictions = make_predictions(X_dev, W1, b1, W2, b2)\n",
        "get_accuracy(dev_predictions, Y_dev)"
      ],
      "metadata": {
        "colab": {
          "base_uri": "https://localhost:8080/"
        },
        "id": "CVtPxoTbFtll",
        "outputId": "d49abff9-6567-4b2c-abda-63bb770d09e9"
      },
      "execution_count": 16,
      "outputs": [
        {
          "output_type": "stream",
          "name": "stdout",
          "text": [
            "[8 0 5 7 3 5 2 8 9 4 5 1 8 3 8 5 9 3 2 1 5 9 5 5 5 0 1 6 1 5 9 4 3 7 2 5 6\n",
            " 5 1 4 1 4 1 1 3 4 5 4 8 4 4 3 8 1 5 8 0 7 3 2 2 6 7 2 2 0 0 1 5 2 3 8 9 9\n",
            " 3 0 8 1 0 4 9 0 1 9 8 3 9 5 3 7 1 1 1 2 0 7 9 7 3 9 6 0 4 1 3 4 1 7 4 3 4\n",
            " 7 7 8 3 6 2 4 0 9 1 6 6 8 6 8 3 3 2 9 4 1 2 5 0 5 7 9 1 3 1 9 7 2 4 0 4 3\n",
            " 1 2 0 2 8 9 1 6 0 5 9 1 8 9 6 6 8 9 8 2 3 4 0 3 1 1 4 2 5 3 5 2 4 0 7 9 2\n",
            " 3 2 9 9 1 0 6 7 0 1 5 7 8 9 6 5 0 1 1 1 8 8 8 6 4 8 5 5 1 3 1 7 2 3 1 7 0\n",
            " 2 0 0 8 0 3 0 7 8 9 1 0 3 5 7 3 1 4 3 4 2 9 6 5 1 2 9 6 7 0 9 2 2 4 4 7 6\n",
            " 8 7 6 7 0 5 8 1 1 1 8 9 1 1 6 8 1 3 3 2 1 6 5 6 1 0 7 1 0 4 1 1 1 3 3 6 7\n",
            " 5 0 4 0 6 6 5 2 3 3 4 5 7 6 1 5 2 5 9 7 0 2 0 0 7 9 1 1 6 1 0 5 3 7 8 3 9\n",
            " 4 0 1 6 5 6 4 1 7 9 4 1 1 5 0 7 9 5 0 7 0 8 4 1 0 6 0 5 9 1 5 5 6 7 9 2 4\n",
            " 9 1 6 4 8 8 1 8 8 2 3 7 1 9 6 8 2 8 0 8 6 9 3 6 3 1 2 7 2 2 5 3 0 2 9 0 9\n",
            " 8 8 3 9 9 2 2 5 7 1 5 2 1 1 5 3 5 4 4 6 1 2 4 0 7 0 9 2 1 4 7 8 0 4 0 2 1\n",
            " 1 4 6 1 1 4 9 7 2 9 0 0 3 1 9 2 6 0 3 4 6 8 5 3 5 3 8 4 3 0 4 5 2 5 4 7 4\n",
            " 7 5 4 8 7 4 4 5 4 3 1 6 6 3 6 2 2 3 9 9 9 7 9 7 6 5 5 3 1 3 5 7 4 3 1 6 8\n",
            " 8 1 9 3 3 4 6 9 6 8 9 3 9 7 4 1 2 7 1 0 2 1 0 5 3 2 0 0 1 0 0 9 2 3 7 3 5\n",
            " 0 1 0 1 3 6 6 5 2 8 8 6 8 1 2 8 6 7 1 9 7 8 7 9 3 4 0 7 7 3 1 8 0 8 5 3 6\n",
            " 8 9 0 0 9 3 9 2 4 7 5 5 6 3 7 5 6 0 7 3 7 9 1 7 4 8 6 5 0 2 8 6 7 2 2 7 2\n",
            " 4 4 9 4 7 7 3 0 3 0 2 0 7 8 3 7 2 5 1 7 1 5 7 1 0 8 4 6 3 9 8 9 9 1 4 8 9\n",
            " 4 8 6 7 4 6 3 4 1 4 6 1 2 9 3 6 2 5 8 6 3 9 7 4 1 6 7 9 9 5 0 3 1 6 4 4 2\n",
            " 2 1 9 5 9 0 7 9 8 9 4 9 1 3 4 9 3 2 5 5 4 2 4 5 0 7 1 4 9 8 6 8 4 4 6 7 4\n",
            " 1 6 1 8 9 1 3 2 2 9 1 3 3 4 1 3 5 2 1 9 6 7 9 8 0 6 8 0 3 0 4 6 3 1 5 0 3\n",
            " 2 8 4 6 2 9 4 2 3 3 8 5 5 4 3 6 7 1 1 4 1 1 1 6 3 3 8 7 1 1 7 0 1 6 7 3 9\n",
            " 2 2 1 3 7 5 5 8 1 5 8 4 8 3 7 1 2 2 8 4 8 5 6 5 7 1 0 3 6 5 8 7 6 0 4 6 9\n",
            " 7 7 8 4 8 7 7 6 9 8 3 5 7 3 7 7 8 0 1 7 4 8 5 2 9 0 8 3 8 9 9 6 8 4 2 7 5\n",
            " 8 2 5 7 7 6 9 1 6 8 0 2 4 1 3 3 4 4 7 1 3 7 4 3 0 5 4 1 5 5 0 3 5 2 1 9 0\n",
            " 8 8 0 3 8 7 6 3 0 1 3 6 4 3 3 2 9 6 7 7 6 9 9 5 5 6 9 1 3 3 4 8 6 8 0 9 1\n",
            " 9 6 6 4 6 8 4 4 0 2 4 6 8 7 8 4 2 1 9 7 0 6 2 2 8 2 8 0 4 2 8 9 1 4 7 5 4\n",
            " 4] [8 0 5 7 3 5 2 8 8 4 5 6 2 3 8 3 7 3 2 1 5 8 5 8 5 0 1 6 8 5 9 4 3 7 2 5 6\n",
            " 5 1 4 7 9 1 1 3 4 5 4 8 4 4 3 8 1 5 2 2 7 3 2 2 6 7 2 2 0 5 1 5 2 3 8 9 9\n",
            " 3 0 8 1 0 4 9 0 1 8 8 3 9 3 3 7 8 1 1 2 0 7 9 7 3 9 8 0 4 1 3 4 1 7 4 3 4\n",
            " 7 7 5 3 6 2 9 9 3 1 6 6 8 6 8 3 3 2 9 4 8 2 3 0 5 7 9 1 3 1 9 7 7 4 5 4 5\n",
            " 1 2 0 2 8 9 1 6 0 5 9 1 8 9 6 5 8 9 8 2 1 4 0 3 1 1 4 2 5 3 5 2 4 0 7 9 2\n",
            " 3 2 9 9 1 0 6 7 0 1 5 7 8 9 9 8 0 1 1 1 1 8 8 6 4 8 5 0 1 5 1 7 2 3 1 7 0\n",
            " 2 0 0 8 0 3 0 7 8 9 1 0 3 5 7 3 1 4 3 4 2 9 6 5 1 2 9 6 7 0 9 2 2 4 4 7 6\n",
            " 8 7 8 9 0 5 8 1 1 1 8 9 1 1 6 8 1 3 3 2 1 6 0 6 1 0 7 1 0 4 1 1 1 3 3 6 7\n",
            " 5 0 9 0 6 6 5 2 3 8 4 3 7 6 1 5 2 5 9 7 0 2 0 0 7 4 1 1 6 1 0 5 3 7 8 3 4\n",
            " 4 0 1 6 5 0 4 1 7 4 4 1 1 5 0 7 9 5 2 7 0 8 4 1 0 6 0 5 9 1 5 3 6 7 9 2 4\n",
            " 9 1 6 4 8 5 1 8 8 7 3 7 1 9 6 8 2 8 0 8 6 9 3 6 3 1 2 7 2 2 5 2 0 2 9 0 9\n",
            " 2 8 8 9 9 2 2 0 7 1 5 2 1 1 5 8 5 4 2 6 1 2 4 0 7 0 9 2 1 4 7 5 0 4 0 2 1\n",
            " 1 4 6 1 1 4 9 7 2 9 3 0 7 1 4 2 6 0 3 4 6 8 5 8 5 3 8 4 3 0 9 5 2 5 4 7 4\n",
            " 7 5 9 0 7 4 4 5 4 3 1 6 6 3 6 2 2 3 9 9 7 7 9 7 6 5 5 3 1 7 5 7 4 3 1 6 8\n",
            " 8 1 9 3 3 4 2 9 6 6 9 3 9 7 9 1 2 3 1 0 2 1 0 5 3 2 0 0 1 0 0 9 3 3 7 9 5\n",
            " 0 1 0 1 3 6 6 3 7 3 5 6 8 1 2 5 2 7 1 4 9 8 8 9 3 4 0 7 7 3 1 8 0 5 5 0 6\n",
            " 8 9 0 0 9 8 9 2 4 7 5 3 6 3 7 5 6 0 7 8 7 9 1 7 4 8 0 6 0 2 8 6 7 2 2 7 2\n",
            " 4 4 9 4 7 7 3 0 3 0 2 0 7 8 3 7 2 5 1 7 1 6 7 1 0 8 6 6 3 9 8 9 9 1 6 8 4\n",
            " 4 2 8 7 4 6 3 2 1 4 2 1 2 9 3 6 2 5 9 6 3 9 7 4 1 6 7 9 7 5 0 3 1 6 4 9 3\n",
            " 2 1 9 5 9 0 7 9 8 9 4 7 1 3 6 9 3 2 5 5 4 2 4 5 0 7 1 4 5 8 6 8 4 4 6 7 9\n",
            " 1 6 1 8 9 1 3 3 5 9 1 3 3 9 1 3 5 2 1 9 6 7 4 8 0 6 0 0 3 8 4 6 3 1 0 0 3\n",
            " 2 8 4 6 2 9 4 2 3 3 8 5 5 4 3 6 7 1 1 4 1 1 1 6 8 3 8 7 1 1 7 0 1 2 7 3 9\n",
            " 2 2 1 3 9 9 5 8 1 2 8 4 8 3 7 1 8 2 8 4 8 5 6 5 7 1 0 3 6 6 8 7 6 0 4 6 9\n",
            " 7 7 8 9 8 7 9 4 9 2 3 5 7 3 7 7 8 0 1 7 4 2 5 2 9 2 8 8 8 9 8 6 8 4 2 7 2\n",
            " 8 2 5 7 7 6 9 1 6 8 0 9 4 1 3 3 4 9 7 1 3 7 4 5 0 5 4 1 5 5 0 8 5 2 7 9 0\n",
            " 8 8 0 5 8 7 6 3 0 1 3 6 4 3 3 2 9 6 7 7 6 9 9 5 5 5 7 1 3 3 4 8 6 8 0 9 1\n",
            " 4 2 6 4 6 8 4 4 0 2 4 6 8 2 8 4 2 1 9 7 0 6 2 2 8 2 8 0 4 2 8 9 1 4 9 5 4\n",
            " 4]\n"
          ]
        },
        {
          "output_type": "execute_result",
          "data": {
            "text/plain": [
              "0.864"
            ]
          },
          "metadata": {},
          "execution_count": 16
        }
      ]
    },
    {
      "cell_type": "code",
      "source": [],
      "metadata": {
        "id": "KFOM4eGiH9Ov"
      },
      "execution_count": null,
      "outputs": []
    }
  ]
}